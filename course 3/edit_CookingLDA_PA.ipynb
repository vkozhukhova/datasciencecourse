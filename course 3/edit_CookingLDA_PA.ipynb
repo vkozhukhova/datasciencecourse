{
 "cells": [
  {
   "cell_type": "markdown",
   "metadata": {},
   "source": [
    "# Programming Assignment: \n",
    "## Готовим LDA по рецептам"
   ]
  },
  {
   "cell_type": "markdown",
   "metadata": {},
   "source": [
    "Как вы уже знаете, в тематическом моделировании делается предположение о том, что для определения тематики порядок слов в документе не важен; об этом гласит гипотеза «мешка слов». Сегодня мы будем работать с несколько нестандартной для тематического моделирования коллекцией, которую можно назвать «мешком ингредиентов», потому что на состоит из рецептов блюд разных кухонь. Тематические модели ищут слова, которые часто вместе встречаются в документах, и составляют из них темы. Мы попробуем применить эту идею к рецептам и найти кулинарные «темы». Эта коллекция хороша тем, что не требует предобработки. Кроме того, эта задача достаточно наглядно иллюстрирует принцип работы тематических моделей.\n",
    "\n",
    "Для выполнения заданий, помимо часто используемых в курсе библиотек, потребуются модули *json* и *gensim*. Первый входит в дистрибутив Anaconda, второй можно поставить командой \n",
    "\n",
    "*pip install gensim*\n",
    "\n",
    "Построение модели занимает некоторое время. На ноутбуке с процессором Intel Core i7 и тактовой частотой 2400 МГц на построение одной модели уходит менее 10 минут."
   ]
  },
  {
   "cell_type": "markdown",
   "metadata": {},
   "source": [
    "### Загрузка данных"
   ]
  },
  {
   "cell_type": "markdown",
   "metadata": {},
   "source": [
    "Коллекция дана в json-формате: для каждого рецепта известны его id, кухня (cuisine) и список ингредиентов, в него входящих. Загрузить данные можно с помощью модуля json (он входит в дистрибутив Anaconda):"
   ]
  },
  {
   "cell_type": "code",
   "execution_count": 1,
   "metadata": {},
   "outputs": [],
   "source": [
    "import json"
   ]
  },
  {
   "cell_type": "code",
   "execution_count": 2,
   "metadata": {},
   "outputs": [],
   "source": [
    "with open(\"recipes.json\") as f:\n",
    "    recipes = json.load(f)"
   ]
  },
  {
   "cell_type": "code",
   "execution_count": 3,
   "metadata": {},
   "outputs": [
    {
     "name": "stdout",
     "output_type": "stream",
     "text": [
      "{u'cuisine': u'greek', u'id': 10259, u'ingredients': [u'romaine lettuce', u'black olives', u'grape tomatoes', u'garlic', u'pepper', u'purple onion', u'seasoning', u'garbanzo beans', u'feta cheese crumbles']}\n"
     ]
    }
   ],
   "source": [
    "print (recipes[0])"
   ]
  },
  {
   "cell_type": "markdown",
   "metadata": {},
   "source": [
    "### Составление корпуса"
   ]
  },
  {
   "cell_type": "code",
   "execution_count": 4,
   "metadata": {},
   "outputs": [
    {
     "name": "stderr",
     "output_type": "stream",
     "text": [
      "No handlers could be found for logger \"gensim.models.doc2vec\"\n"
     ]
    }
   ],
   "source": [
    "from gensim import corpora, models\n",
    "import numpy as np"
   ]
  },
  {
   "cell_type": "markdown",
   "metadata": {},
   "source": [
    "Наша коллекция небольшая, и целиком помещается в оперативную память. Gensim может работать с такими данными и не требует их сохранения на диск в специальном формате. Для этого коллекция должна быть представлена в виде списка списков, каждый внутренний список соответствует отдельному документу и состоит из его слов. Пример коллекции из двух документов: \n",
    "\n",
    "[[\"hello\", \"world\"], [\"programming\", \"in\", \"python\"]]\n",
    "\n",
    "Преобразуем наши данные в такой формат, а затем создадим объекты corpus и dictionary, с которыми будет работать модель."
   ]
  },
  {
   "cell_type": "code",
   "execution_count": 5,
   "metadata": {},
   "outputs": [],
   "source": [
    "texts = [recipe[\"ingredients\"] for recipe in recipes]\n",
    "dictionary = corpora.Dictionary(texts)   # составляем словарь\n",
    "corpus = [dictionary.doc2bow(text) for text in texts]  # составляем корпус документов"
   ]
  },
  {
   "cell_type": "code",
   "execution_count": 6,
   "metadata": {},
   "outputs": [
    {
     "name": "stdout",
     "output_type": "stream",
     "text": [
      "[u'romaine lettuce', u'black olives', u'grape tomatoes', u'garlic', u'pepper', u'purple onion', u'seasoning', u'garbanzo beans', u'feta cheese crumbles']\n",
      "[(0, 1), (1, 1), (2, 1), (3, 1), (4, 1), (5, 1), (6, 1), (7, 1), (8, 1)]\n"
     ]
    }
   ],
   "source": [
    "print texts[0]\n",
    "print corpus[0]"
   ]
  },
  {
   "cell_type": "markdown",
   "metadata": {},
   "source": [
    "У объекта dictionary есть полезная переменная dictionary.token2id, позволяющая находить соответствие между ингредиентами и их индексами."
   ]
  },
  {
   "cell_type": "markdown",
   "metadata": {},
   "source": [
    "### Обучение модели\n",
    "Вам может понадобиться [документация](https://radimrehurek.com/gensim/models/ldamodel.html) LDA в gensim."
   ]
  },
  {
   "cell_type": "markdown",
   "metadata": {},
   "source": [
    "__Задание 1.__ Обучите модель LDA с 40 темами, установив количество проходов по коллекции 5 и оставив остальные параметры по умолчанию. \n",
    "\n",
    "\n",
    "Затем вызовите метод модели *show_topics*, указав количество тем 40 и количество токенов 10, и сохраните результат (топы ингредиентов в темах) в отдельную переменную. Если при вызове метода *show_topics* указать параметр *formatted=True*, то топы ингредиентов будет удобно выводить на печать, если *formatted=False*, будет удобно работать со списком программно. Выведите топы на печать, рассмотрите темы, а затем ответьте на вопрос:\n",
    "\n",
    "Сколько раз ингредиенты \"salt\", \"sugar\", \"water\", \"mushrooms\", \"chicken\", \"eggs\" встретились среди топов-10 всех 40 тем? При ответе __не нужно__ учитывать составные ингредиенты, например, \"hot water\".\n",
    "\n",
    "Передайте 6 чисел в функцию save_answers1 и загрузите сгенерированный файл в форму.\n",
    "\n",
    "У gensim нет возможности фиксировать случайное приближение через параметры метода, но библиотека использует numpy для инициализации матриц. Поэтому, по утверждению автора библиотеки, фиксировать случайное приближение нужно командой, которая написана в следующей ячейке. __Перед строкой кода с построением модели обязательно вставляйте указанную строку фиксации random.seed.__"
   ]
  },
  {
   "cell_type": "code",
   "execution_count": 7,
   "metadata": {},
   "outputs": [],
   "source": [
    "np.random.seed(76543)\n",
    "# здесь код для построения модели:\n",
    "ldamodel = models.ldamodel.LdaModel(corpus, num_topics=40, passes=5, id2word = {k: w for (w, k) in dictionary.token2id.items()})"
   ]
  },
  {
   "cell_type": "code",
   "execution_count": 8,
   "metadata": {},
   "outputs": [],
   "source": [
    "top_ingreds = ldamodel.show_topics(num_topics=40, num_words=10, formatted=False)"
   ]
  },
  {
   "cell_type": "code",
   "execution_count": 9,
   "metadata": {},
   "outputs": [
    {
     "data": {
      "text/plain": [
       "[(0,\n",
       "  [(u'cooking spray', 0.08893168359335853),\n",
       "   (u'salt', 0.0830233131227015),\n",
       "   (u'garlic cloves', 0.07969448238353347),\n",
       "   (u'olive oil', 0.0680566977323325),\n",
       "   (u'chopped onion', 0.06574028630309077),\n",
       "   (u'crushed red pepper', 0.03660342538942805),\n",
       "   (u'fat free less sodium chicken broth', 0.03615158883994815),\n",
       "   (u'black pepper', 0.034352059579260526),\n",
       "   (u'ground black pepper', 0.03202882803985302),\n",
       "   (u'water', 0.03202634654635649)]),\n",
       " (1,\n",
       "  [(u'carrots', 0.08468504741761565),\n",
       "   (u'onions', 0.05947718590488961),\n",
       "   (u'sauce', 0.056696097267259264),\n",
       "   (u'cabbage', 0.05634827720638408),\n",
       "   (u'spinach', 0.046496298177981454),\n",
       "   (u'beef', 0.03938769621651126),\n",
       "   (u'low sodium chicken broth', 0.033278198173197195),\n",
       "   (u'water', 0.03257205403253995),\n",
       "   (u'firm tofu', 0.029467834271367288),\n",
       "   (u'green cabbage', 0.027719405825683028)]),\n",
       " (2,\n",
       "  [(u'cracked black pepper', 0.06579303783393559),\n",
       "   (u'dry red wine', 0.058809351108989175),\n",
       "   (u'shortening', 0.041491648463130436),\n",
       "   (u'beef broth', 0.041121673243871636),\n",
       "   (u'vegetable oil cooking spray', 0.039788950941651496),\n",
       "   (u'grape tomatoes', 0.0394843382554654),\n",
       "   (u'cilantro sprigs', 0.03520580671799445),\n",
       "   (u'french bread', 0.0308094984174478),\n",
       "   (u'dried rosemary', 0.029339305231140565),\n",
       "   (u'all-purpose flour', 0.029082580099877173)]),\n",
       " (3,\n",
       "  [(u'potatoes', 0.13264991233166148),\n",
       "   (u'oil', 0.12392896234858589),\n",
       "   (u'salt', 0.06332673304394111),\n",
       "   (u'chickpeas', 0.059179676560327306),\n",
       "   (u'onions', 0.04202017884862618),\n",
       "   (u'coriander', 0.03836718666833262),\n",
       "   (u'pepper', 0.034463196802499),\n",
       "   (u'saffron', 0.033048438299776904),\n",
       "   (u'chopped tomatoes', 0.031199828274823364),\n",
       "   (u'vegetables', 0.02622991719134973)]),\n",
       " (4,\n",
       "  [(u'green bell pepper', 0.06213719448435987),\n",
       "   (u'garlic powder', 0.05751836529465041),\n",
       "   (u'cayenne pepper', 0.05560720304032578),\n",
       "   (u'salt', 0.0531298013269571),\n",
       "   (u'paprika', 0.04435725169468245),\n",
       "   (u'onions', 0.03522263546830058),\n",
       "   (u'dried thyme', 0.03480150572510928),\n",
       "   (u'worcestershire sauce', 0.031990203148110616),\n",
       "   (u'onion powder', 0.02726733988686241),\n",
       "   (u'ground black pepper', 0.0270672772008536)]),\n",
       " (5,\n",
       "  [(u'ground cumin', 0.07662728512249416),\n",
       "   (u'salt', 0.052261476695032075),\n",
       "   (u'ground coriander', 0.04831432227171243),\n",
       "   (u'onions', 0.036445389125942904),\n",
       "   (u'olive oil', 0.035941283188257636),\n",
       "   (u'garlic', 0.03331449387550937),\n",
       "   (u'paprika', 0.028238586829496478),\n",
       "   (u'tumeric', 0.02575640130822826),\n",
       "   (u'cayenne pepper', 0.02293977686273951),\n",
       "   (u'garlic cloves', 0.022337497196979018)]),\n",
       " (6,\n",
       "  [(u'ground cinnamon', 0.10667595663455669),\n",
       "   (u'ground nutmeg', 0.08742177488795182),\n",
       "   (u'honey', 0.05610592412554891),\n",
       "   (u'ground allspice', 0.04677648253170648),\n",
       "   (u'raisins', 0.046276683476044966),\n",
       "   (u'ground cloves', 0.04591309115999416),\n",
       "   (u'light brown sugar', 0.043664170427418485),\n",
       "   (u'ground ginger', 0.031187420812889017),\n",
       "   (u'brown sugar', 0.0301820492168459),\n",
       "   (u'margarine', 0.03011716363470939)]),\n",
       " (7,\n",
       "  [(u'zucchini', 0.08474264242251403),\n",
       "   (u'plum tomatoes', 0.08049757811358373),\n",
       "   (u'fresh basil', 0.07737071565988095),\n",
       "   (u'olive oil', 0.07393426487381372),\n",
       "   (u'eggplant', 0.04664611379184044),\n",
       "   (u'salt', 0.03921468083012858),\n",
       "   (u'grated parmesan cheese', 0.030897630465110185),\n",
       "   (u'garlic cloves', 0.029836911250445262),\n",
       "   (u'red bell pepper', 0.029530917231211366),\n",
       "   (u'spaghetti', 0.02864503120588404)]),\n",
       " (8,\n",
       "  [(u'rice', 0.08716737875082486),\n",
       "   (u'cooking oil', 0.07709878220191803),\n",
       "   (u'salt', 0.06727713553520127),\n",
       "   (u'water', 0.05874918992232022),\n",
       "   (u'basmati rice', 0.05062240649236607),\n",
       "   (u'vinegar', 0.048994075835857256),\n",
       "   (u'ginger', 0.04575519763610544),\n",
       "   (u'curry leaves', 0.03583158720841818),\n",
       "   (u'mint leaves', 0.02939553347137722),\n",
       "   (u'red cabbage', 0.023020562542491026)]),\n",
       " (9,\n",
       "  [(u'dried oregano', 0.0789170141252908),\n",
       "   (u'onions', 0.0727240157728642),\n",
       "   (u'garlic', 0.06087084645776578),\n",
       "   (u'tomato sauce', 0.05730522905799631),\n",
       "   (u'salt', 0.05257619989092321),\n",
       "   (u'ground beef', 0.050432908072482005),\n",
       "   (u'diced tomatoes', 0.04908031515736038),\n",
       "   (u'dried basil', 0.04308622069903671),\n",
       "   (u'tomato paste', 0.040347252869254044),\n",
       "   (u'olive oil', 0.03498168899450864)]),\n",
       " (10,\n",
       "  [(u'white wine', 0.04936768111682797),\n",
       "   (u'ground black pepper', 0.048029125078343),\n",
       "   (u'butter', 0.037340281661360525),\n",
       "   (u'russet potatoes', 0.03647770321974981),\n",
       "   (u'chopped fresh chives', 0.030782680251151693),\n",
       "   (u'kosher salt', 0.02959143664687191),\n",
       "   (u'red potato', 0.02710267530615265),\n",
       "   (u'ham', 0.026620871791238957),\n",
       "   (u'large eggs', 0.025770559902268713),\n",
       "   (u'salt', 0.024067311817708388)]),\n",
       " (11,\n",
       "  [(u'jalapeno chilies', 0.06699627387002928),\n",
       "   (u'salt', 0.06421104365298985),\n",
       "   (u'avocado', 0.0506188758734648),\n",
       "   (u'lime', 0.04214971834609724),\n",
       "   (u'purple onion', 0.03495355405241779),\n",
       "   (u'garlic', 0.034417628909233194),\n",
       "   (u'olive oil', 0.03239463851249289),\n",
       "   (u'fresh cilantro', 0.03155725966640418),\n",
       "   (u'cilantro', 0.03069657417323112),\n",
       "   (u'lime juice', 0.029169836782926378)]),\n",
       " (12,\n",
       "  [(u'cucumber', 0.13387370070367377),\n",
       "   (u'lean ground beef', 0.07042634503602042),\n",
       "   (u'cider vinegar', 0.04577347047544773),\n",
       "   (u'feta cheese', 0.04534131562547234),\n",
       "   (u'lemon wedge', 0.03978298888787877),\n",
       "   (u'romaine lettuce', 0.03938062213158533),\n",
       "   (u'cream', 0.03521028517986847),\n",
       "   (u'cherry tomatoes', 0.0339971679828632),\n",
       "   (u'chili', 0.030538503372421033),\n",
       "   (u'taco seasoning mix', 0.027446808482652026)]),\n",
       " (13,\n",
       "  [(u'sour cream', 0.08550244759380497),\n",
       "   (u'salsa', 0.05632166875597223),\n",
       "   (u'shredded cheddar cheese', 0.049190995951747064),\n",
       "   (u'flour tortillas', 0.04832554165389882),\n",
       "   (u'chili powder', 0.04064986695781632),\n",
       "   (u'black beans', 0.039468024154463516),\n",
       "   (u'green onions', 0.0338627027451645),\n",
       "   (u'ground cumin', 0.031229330247281986),\n",
       "   (u'corn tortillas', 0.025747086766038273),\n",
       "   (u'cheddar cheese', 0.02399950310189899)]),\n",
       " (14,\n",
       "  [(u'white sugar', 0.11057378122584116),\n",
       "   (u'sweet potatoes', 0.08588980976978884),\n",
       "   (u'fresh mint', 0.05810176942657599),\n",
       "   (u'black peppercorns', 0.04950358686832045),\n",
       "   (u'fennel seeds', 0.045058371287366526),\n",
       "   (u'red wine', 0.0369689265867073),\n",
       "   (u'vegetable stock', 0.03215564982881976),\n",
       "   (u'sugar', 0.02423241999328664),\n",
       "   (u'maple syrup', 0.02260354568906477),\n",
       "   (u'garlic chili sauce', 0.021670741100373835)]),\n",
       " (15,\n",
       "  [(u'cold water', 0.0899018751826468),\n",
       "   (u'cinnamon sticks', 0.0718980662252664),\n",
       "   (u'boiling water', 0.056970939038014624),\n",
       "   (u'sugar', 0.044393889192308016),\n",
       "   (u'star anise', 0.04112275069350486),\n",
       "   (u'slivered almonds', 0.03258050043603722),\n",
       "   (u'cake flour', 0.029463615896518053),\n",
       "   (u'panko breadcrumbs', 0.02673348870566802),\n",
       "   (u'green olives', 0.02607419728372698),\n",
       "   (u'apple cider vinegar', 0.023535827999710112)]),\n",
       " (16,\n",
       "  [(u'extra-virgin olive oil', 0.10083323829836822),\n",
       "   (u'garlic cloves', 0.05985269110364236),\n",
       "   (u'olive oil', 0.05027947166985634),\n",
       "   (u'flat leaf parsley', 0.04638177217134626),\n",
       "   (u'freshly ground pepper', 0.03945704100206896),\n",
       "   (u'fresh lemon juice', 0.03856081277240168),\n",
       "   (u'salt', 0.03808006015688932),\n",
       "   (u'dry white wine', 0.03646894270236986),\n",
       "   (u'large garlic cloves', 0.03216817172879061),\n",
       "   (u'ground black pepper', 0.029174154327681175)]),\n",
       " (17,\n",
       "  [(u'coconut milk', 0.14039473267660557),\n",
       "   (u'parsley', 0.05352064982620638),\n",
       "   (u'thyme', 0.04787644491855558),\n",
       "   (u'chicken thighs', 0.044859599676256794),\n",
       "   (u'garlic', 0.03483908552759835),\n",
       "   (u'coconut oil', 0.033375879670636786),\n",
       "   (u'onions', 0.033202434624158034),\n",
       "   (u'Thai red curry paste', 0.024500029872723258),\n",
       "   (u'bread', 0.024385440595203835),\n",
       "   (u'salt', 0.019675543148906682)]),\n",
       " (18,\n",
       "  [(u'salt', 0.10286475889374326),\n",
       "   (u'all-purpose flour', 0.09036246601475237),\n",
       "   (u'eggs', 0.08657291592985512),\n",
       "   (u'milk', 0.08518924452520625),\n",
       "   (u'butter', 0.07002848634601011),\n",
       "   (u'baking powder', 0.054567443817826286),\n",
       "   (u'sugar', 0.04977431496607424),\n",
       "   (u'flour', 0.039811370974946116),\n",
       "   (u'baking soda', 0.034297844284951015),\n",
       "   (u'buttermilk', 0.0300339793483208)]),\n",
       " (19,\n",
       "  [(u'curry powder', 0.1349619515633209),\n",
       "   (u'frozen peas', 0.07117129069873493),\n",
       "   (u'long-grain rice', 0.06477582695088906),\n",
       "   (u'sweetened condensed milk', 0.052799270516859634),\n",
       "   (u'greek yogurt', 0.04635656686463411),\n",
       "   (u'egg whites', 0.038102212715093835),\n",
       "   (u'cauliflower', 0.03221422945034724),\n",
       "   (u'cardamom pods', 0.029779082802830422),\n",
       "   (u'black-eyed peas', 0.02810136035782531),\n",
       "   (u'ground cayenne pepper', 0.02644143946601912)]),\n",
       " (20,\n",
       "  [(u'peanut oil', 0.04399137025077617),\n",
       "   (u'ground white pepper', 0.041780605125565244),\n",
       "   (u'beansprouts', 0.03526538424986435),\n",
       "   (u'Sriracha', 0.03464663385953193),\n",
       "   (u'rice noodles', 0.03188437756956909),\n",
       "   (u'medium shrimp', 0.031803769002536064),\n",
       "   (u'peanuts', 0.029756053065311944),\n",
       "   (u'minced ginger', 0.025379689895871665),\n",
       "   (u'fish sauce', 0.025335208152624418),\n",
       "   (u'english cucumber', 0.02386218691815059)]),\n",
       " (21,\n",
       "  [(u'boneless skinless chicken breast halves', 0.11640332568244373),\n",
       "   (u'coarse salt', 0.10706265479411332),\n",
       "   (u'ground pepper', 0.06716631859523706),\n",
       "   (u'sweet onion', 0.06033102875731242),\n",
       "   (u'mayonaise', 0.055043373709271044),\n",
       "   (u'pork tenderloin', 0.04211114841236661),\n",
       "   (u'minced garlic', 0.03963487578587851),\n",
       "   (u'juice', 0.03764686021246728),\n",
       "   (u'minced onion', 0.0354961230964796),\n",
       "   (u'dried parsley', 0.031200914254888957)]),\n",
       " (22,\n",
       "  [(u'diced onions', 0.0796661062336205),\n",
       "   (u'lettuce', 0.053874361311095055),\n",
       "   (u'self rising flour', 0.05358139959100461),\n",
       "   (u'provolone cheese', 0.04767666800158089),\n",
       "   (u'iceberg lettuce', 0.03219572879823823),\n",
       "   (u'frozen pastry puff sheets', 0.02802357867843806),\n",
       "   (u'romano cheese', 0.026366207094139445),\n",
       "   (u'semi-sweet chocolate morsels', 0.024739932878896836),\n",
       "   (u'shredded cheese', 0.02425099739198864),\n",
       "   (u'reduced-fat sour cream', 0.02399498189930938)]),\n",
       " (23,\n",
       "  [(u'lemon juice', 0.18590259676259419),\n",
       "   (u'dijon mustard', 0.09239686094266439),\n",
       "   (u'creole seasoning', 0.05084383169597593),\n",
       "   (u'white pepper', 0.0403489079191148),\n",
       "   (u'fresh orange juice', 0.03884429514429106),\n",
       "   (u'nutmeg', 0.03806084477909088),\n",
       "   (u'kale', 0.028640742093208448),\n",
       "   (u'mayonaise', 0.028356509516377693),\n",
       "   (u'salmon fillets', 0.027525424760357027),\n",
       "   (u'cream cheese, soften', 0.02743515561842261)]),\n",
       " (24,\n",
       "  [(u'sugar', 0.08245321852081407),\n",
       "   (u'whipping cream', 0.07232987017295725),\n",
       "   (u'orange juice', 0.05725046378034679),\n",
       "   (u'hot water', 0.05354618966283582),\n",
       "   (u'chopped garlic', 0.049721799312985364),\n",
       "   (u'orange', 0.04939072522092908),\n",
       "   (u'bananas', 0.03286020336946779),\n",
       "   (u'bread flour', 0.02990557105070441),\n",
       "   (u'water', 0.02894954512310193),\n",
       "   (u'brandy', 0.02893817567223346)]),\n",
       " (25,\n",
       "  [(u'salt', 0.065871753443314),\n",
       "   (u'cumin seed', 0.06278425263867467),\n",
       "   (u'onions', 0.05411449024146555),\n",
       "   (u'ground turmeric', 0.044684336544209544),\n",
       "   (u'garam masala', 0.04108780661755824),\n",
       "   (u'green chilies', 0.04065207190072364),\n",
       "   (u'clove', 0.040140537637780804),\n",
       "   (u'chili powder', 0.03149444230346722),\n",
       "   (u'tomatoes', 0.03127568361275508),\n",
       "   (u'oil', 0.028312119851508527)]),\n",
       " (26,\n",
       "  [(u'fish sauce', 0.08420864192503875),\n",
       "   (u'white vinegar', 0.04608431230204246),\n",
       "   (u'sugar', 0.04184886450692137),\n",
       "   (u'garlic', 0.036764958396804236),\n",
       "   (u'lime juice', 0.03567156893230821),\n",
       "   (u'vegetable oil', 0.035486682652469376),\n",
       "   (u'shallots', 0.033799280291789024),\n",
       "   (u'water', 0.03036819156857306),\n",
       "   (u'lemongrass', 0.0302679566495114),\n",
       "   (u'red chili peppers', 0.027278543818785164)]),\n",
       " (27,\n",
       "  [(u'grated parmesan cheese', 0.10281313277605159),\n",
       "   (u'warm water', 0.056023143719680396),\n",
       "   (u'salt', 0.05585269388486622),\n",
       "   (u'shredded mozzarella cheese', 0.04571920365008281),\n",
       "   (u'olive oil', 0.043353303369085876),\n",
       "   (u'ricotta cheese', 0.03849792375026375),\n",
       "   (u'active dry yeast', 0.03708491371877618),\n",
       "   (u'mozzarella cheese', 0.03554786232546896),\n",
       "   (u'butter', 0.03207977385089004),\n",
       "   (u'italian seasoning', 0.031181273689060873)]),\n",
       " (28,\n",
       "  [(u'shrimp', 0.1992156010674039),\n",
       "   (u'pork', 0.05673192951584953),\n",
       "   (u'baby spinach', 0.05519986162673492),\n",
       "   (u'jasmine rice', 0.03404122511490083),\n",
       "   (u'unsweetened coconut milk', 0.033342232538592455),\n",
       "   (u'fresh tomatoes', 0.03269885894561163),\n",
       "   (u'noodles', 0.032239892816296745),\n",
       "   (u'black mustard seeds', 0.031090906246051975),\n",
       "   (u'sausage casings', 0.02847392018516047),\n",
       "   (u'sea scallops', 0.024708106354625576)]),\n",
       " (29,\n",
       "  [(u'mushrooms', 0.1337006260024029),\n",
       "   (u'white wine vinegar', 0.08242086123012593),\n",
       "   (u'shallots', 0.047723143819926914),\n",
       "   (u'boneless chicken breast', 0.04158789195496781),\n",
       "   (u'olive oil', 0.03385649728473288),\n",
       "   (u'chopped fresh sage', 0.03293420958094561),\n",
       "   (u'butter', 0.027348052639168303),\n",
       "   (u'chorizo sausage', 0.025859993446401653),\n",
       "   (u'blanched almonds', 0.025701974236252412),\n",
       "   (u'chicken drumsticks', 0.024006902993904768)]),\n",
       " (30,\n",
       "  [(u'large eggs', 0.0890622312589194),\n",
       "   (u'unsalted butter', 0.08774912281419527),\n",
       "   (u'sugar', 0.06670663612419724),\n",
       "   (u'salt', 0.05748755861657563),\n",
       "   (u'all-purpose flour', 0.054236899435070235),\n",
       "   (u'heavy cream', 0.05037091463228312),\n",
       "   (u'whole milk', 0.03822709070087383),\n",
       "   (u'vanilla extract', 0.03337973468466142),\n",
       "   (u'granulated sugar', 0.032895473701459316),\n",
       "   (u'large egg yolks', 0.029049410950041505)]),\n",
       " (31,\n",
       "  [(u'salt', 0.07133935080174093),\n",
       "   (u'ground red pepper', 0.06307147324833383),\n",
       "   (u'water', 0.05214471059112091),\n",
       "   (u'finely chopped onion', 0.05213056374167321),\n",
       "   (u'chopped celery', 0.045768566719169866),\n",
       "   (u'green beans', 0.031759341206338706),\n",
       "   (u'hot pepper sauce', 0.03121568284769917),\n",
       "   (u'long grain white rice', 0.03111371968393518),\n",
       "   (u'chopped onion', 0.03021600057125281),\n",
       "   (u'chopped green bell pepper', 0.028476312336976336)]),\n",
       " (32,\n",
       "  [(u'water', 0.06287781815156802),\n",
       "   (u'fine sea salt', 0.05988525764206527),\n",
       "   (u'lemon zest', 0.05029985679726626),\n",
       "   (u'fresh spinach', 0.04854464936303317),\n",
       "   (u'yukon gold potatoes', 0.04141850377244949),\n",
       "   (u'sesame seeds', 0.035932093547977495),\n",
       "   (u'collard greens', 0.03362265469145318),\n",
       "   (u'parmigiano reggiano cheese', 0.031740243889248614),\n",
       "   (u'rice flour', 0.030882225395951143),\n",
       "   (u'tofu', 0.029141558274488492)]),\n",
       " (33,\n",
       "  [(u'balsamic vinegar', 0.13345457601766367),\n",
       "   (u'dark soy sauce', 0.07032102005433885),\n",
       "   (u'chopped fresh mint', 0.06636700355109665),\n",
       "   (u'baguette', 0.06290110355131555),\n",
       "   (u'broccoli', 0.05070255299029597),\n",
       "   (u'penne', 0.03133664658122646),\n",
       "   (u'mint', 0.031093589359164675),\n",
       "   (u'tequila', 0.028204513804840136),\n",
       "   (u'red kidney beans', 0.01929381323437587),\n",
       "   (u'arugula', 0.018389991254781395)]),\n",
       " (34,\n",
       "  [(u'onions', 0.0890857074714606),\n",
       "   (u'salt', 0.07391922595153382),\n",
       "   (u'garlic', 0.059243801214696606),\n",
       "   (u'olive oil', 0.04861818233648922),\n",
       "   (u'bay leaves', 0.04140385625300702),\n",
       "   (u'ground black pepper', 0.04092738495591262),\n",
       "   (u'chicken stock', 0.03772691695324368),\n",
       "   (u'pepper', 0.03727509235776018),\n",
       "   (u'carrots', 0.03657940622402712),\n",
       "   (u'chicken', 0.031641802885223586)]),\n",
       " (35,\n",
       "  [(u'soy sauce', 0.09733346021010449),\n",
       "   (u'sesame oil', 0.0517973562835107),\n",
       "   (u'sugar', 0.0421829654497732),\n",
       "   (u'corn starch', 0.04198427826855944),\n",
       "   (u'garlic', 0.03912676214068898),\n",
       "   (u'green onions', 0.035174153493348743),\n",
       "   (u'scallions', 0.03452642238854305),\n",
       "   (u'rice vinegar', 0.03427949511004342),\n",
       "   (u'salt', 0.028955740531032906),\n",
       "   (u'water', 0.028487727902946722)]),\n",
       " (36,\n",
       "  [(u'cheese', 0.10850055118031686),\n",
       "   (u'garlic salt', 0.06445969066952177),\n",
       "   (u'rice wine', 0.060875479422394414),\n",
       "   (u'chives', 0.05785705153369421),\n",
       "   (u'chicken breast halves', 0.043411401321535384),\n",
       "   (u'shredded sharp cheddar cheese', 0.04093236600101258),\n",
       "   (u'roasted peanuts', 0.04024069697107908),\n",
       "   (u'Mexican cheese blend', 0.0385377404574622),\n",
       "   (u'non-fat sour cream', 0.03749955469103512),\n",
       "   (u'dashi', 0.03358427953883423)]),\n",
       " (37,\n",
       "  [(u'chicken broth', 0.17999160062170189),\n",
       "   (u'chicken breasts', 0.1005771250731724),\n",
       "   (u'onions', 0.06189053114992748),\n",
       "   (u'crushed red pepper flakes', 0.05336365528609646),\n",
       "   (u'garlic', 0.05317353371414166),\n",
       "   (u'pepper', 0.040642865177377016),\n",
       "   (u'chopped parsley', 0.03794624022309438),\n",
       "   (u'salt', 0.03478408272649336),\n",
       "   (u'olive oil', 0.03376663139944701),\n",
       "   (u'bay leaf', 0.025032033012338376)]),\n",
       " (38,\n",
       "  [(u'olive oil', 0.06350512370622116),\n",
       "   (u'red wine vinegar', 0.06034506893540104),\n",
       "   (u'salt', 0.05420701528718611),\n",
       "   (u'parmesan cheese', 0.04545252639307402),\n",
       "   (u'garlic', 0.04061827178189612),\n",
       "   (u'fresh basil leaves', 0.04030770032213913),\n",
       "   (u'extra-virgin olive oil', 0.03686511494162869),\n",
       "   (u'pepper', 0.030579913039912917),\n",
       "   (u'ground black pepper', 0.02977115547725436),\n",
       "   (u'tomatoes', 0.029571536712105096)]),\n",
       " (39,\n",
       "  [(u'canola oil', 0.10058287392851886),\n",
       "   (u'fresh lime juice', 0.06616517293397402),\n",
       "   (u'chopped cilantro fresh', 0.0627426960032736),\n",
       "   (u'kosher salt', 0.058468985000598474),\n",
       "   (u'garlic cloves', 0.053626273422525565),\n",
       "   (u'peeled fresh ginger', 0.03449569478587366),\n",
       "   (u'chiles', 0.030200642640448905),\n",
       "   (u'vegetable oil', 0.029459568934012283),\n",
       "   (u'serrano chile', 0.027665437336932004),\n",
       "   (u'boneless chicken skinless thigh', 0.02550275265813554)])]"
      ]
     },
     "execution_count": 9,
     "metadata": {},
     "output_type": "execute_result"
    }
   ],
   "source": [
    "top_ingreds"
   ]
  },
  {
   "cell_type": "code",
   "execution_count": 10,
   "metadata": {},
   "outputs": [],
   "source": [
    "our_words_list = ['salt', 'sugar', 'water', 'mushrooms', 'chicken', 'eggs']"
   ]
  },
  {
   "cell_type": "code",
   "execution_count": 11,
   "metadata": {},
   "outputs": [
    {
     "data": {
      "text/plain": [
       "1"
      ]
     },
     "execution_count": 11,
     "metadata": {},
     "output_type": "execute_result"
    }
   ],
   "source": [
    "list(np.array(top_ingreds[0][1]).T[0]).count('salt')"
   ]
  },
  {
   "cell_type": "code",
   "execution_count": 12,
   "metadata": {},
   "outputs": [],
   "source": [
    "counts = [0 for i in range(6)]\n",
    "for i, word in enumerate(our_words_list):\n",
    "    for topic in range(len(top_ingreds)):\n",
    "        counts[i] += list(np.array(top_ingreds[topic][1]).T[0]).count(word)"
   ]
  },
  {
   "cell_type": "code",
   "execution_count": 13,
   "metadata": {},
   "outputs": [
    {
     "data": {
      "text/plain": [
       "[20, 7, 8, 1, 1, 1]"
      ]
     },
     "execution_count": 13,
     "metadata": {},
     "output_type": "execute_result"
    }
   ],
   "source": [
    "counts"
   ]
  },
  {
   "cell_type": "code",
   "execution_count": 14,
   "metadata": {},
   "outputs": [],
   "source": [
    "def save_answers1(c_salt, c_sugar, c_water, c_mushrooms, c_chicken, c_eggs):\n",
    "    with open(\"cooking_LDA_pa_task1.txt\", \"w\") as fout:\n",
    "        fout.write(\" \".join([str(el) for el in [c_salt, c_sugar, c_water, c_mushrooms, c_chicken, c_eggs]]))"
   ]
  },
  {
   "cell_type": "code",
   "execution_count": 15,
   "metadata": {},
   "outputs": [],
   "source": [
    "d = dict(zip(['c_salt', 'c_sugar', 'c_water', 'c_mushrooms', 'c_chicken', 'c_eggs'], counts))"
   ]
  },
  {
   "cell_type": "code",
   "execution_count": 16,
   "metadata": {},
   "outputs": [],
   "source": [
    "save_answers1(d['c_salt'], d['c_sugar'], d['c_water'], d['c_mushrooms'], d['c_chicken'], d['c_eggs'])"
   ]
  },
  {
   "cell_type": "markdown",
   "metadata": {},
   "source": [
    "### Фильтрация словаря\n",
    "В топах тем гораздо чаще встречаются первые три рассмотренных ингредиента, чем последние три. При этом наличие в рецепте курицы, яиц и грибов яснее дает понять, что мы будем готовить, чем наличие соли, сахара и воды. Таким образом, даже в рецептах есть слова, часто встречающиеся в текстах и не несущие смысловой нагрузки, и поэтому их не желательно видеть в темах. Наиболее простой прием борьбы с такими фоновыми элементами — фильтрация словаря по частоте. Обычно словарь фильтруют с двух сторон: убирают очень редкие слова (в целях экономии памяти) и очень частые слова (в целях повышения интерпретируемости тем). Мы уберем только частые слова."
   ]
  },
  {
   "cell_type": "code",
   "execution_count": 17,
   "metadata": {},
   "outputs": [],
   "source": [
    "import copy\n",
    "dictionary2 = copy.deepcopy(dictionary)"
   ]
  },
  {
   "cell_type": "markdown",
   "metadata": {},
   "source": [
    "__Задание 2.__ У объекта dictionary2 есть переменная *dfs* — это словарь, ключами которого являются id токена, а элементами — число раз, сколько слово встретилось во всей коллекции. Сохраните в отдельный список ингредиенты, которые встретились в коллекции больше 4000 раз. Вызовите метод словаря *filter_tokens*, подав в качестве первого аргумента полученный список популярных ингредиентов. Вычислите две величины: dict_size_before и dict_size_after — размер словаря до и после фильтрации.\n",
    "\n",
    "Затем, используя новый словарь, создайте новый корпус документов, corpus2, по аналогии с тем, как это сделано в начале ноутбука. Вычислите две величины: corpus_size_before и corpus_size_after — суммарное количество ингредиентов в корпусе (для каждого документа вычислите число различных ингредиентов в нем и просуммируйте по всем документам) до и после фильтрации.\n",
    "\n",
    "Передайте величины dict_size_before, dict_size_after, corpus_size_before, corpus_size_after в функцию save_answers2 и загрузите сгенерированный файл в форму."
   ]
  },
  {
   "cell_type": "code",
   "execution_count": 18,
   "metadata": {},
   "outputs": [],
   "source": [
    "pop_ingreds = [key for (key, value) in zip(dictionary2.dfs.keys(), dictionary2.dfs.values()) if value > 4000]"
   ]
  },
  {
   "cell_type": "code",
   "execution_count": 19,
   "metadata": {},
   "outputs": [],
   "source": [
    "dict_size_before = len(dictionary2)"
   ]
  },
  {
   "cell_type": "code",
   "execution_count": 20,
   "metadata": {},
   "outputs": [],
   "source": [
    "dictionary2.filter_tokens(bad_ids = pop_ingreds)"
   ]
  },
  {
   "cell_type": "code",
   "execution_count": 21,
   "metadata": {},
   "outputs": [],
   "source": [
    "def save_answers2(dict_size_before, dict_size_after, corpus_size_before, corpus_size_after):\n",
    "    with open(\"cooking_LDA_pa_task2.txt\", \"w\") as fout:\n",
    "        fout.write(\" \".join([str(el) for el in [dict_size_before, dict_size_after, corpus_size_before, corpus_size_after]]))"
   ]
  },
  {
   "cell_type": "code",
   "execution_count": 22,
   "metadata": {},
   "outputs": [],
   "source": [
    "dict_size_after = len(dictionary2)"
   ]
  },
  {
   "cell_type": "code",
   "execution_count": 23,
   "metadata": {},
   "outputs": [
    {
     "name": "stdout",
     "output_type": "stream",
     "text": [
      "6714 6702\n"
     ]
    }
   ],
   "source": [
    "print dict_size_before, dict_size_after"
   ]
  },
  {
   "cell_type": "code",
   "execution_count": 24,
   "metadata": {},
   "outputs": [],
   "source": [
    "corpus2 = [dictionary2.doc2bow(text) for text in texts]"
   ]
  },
  {
   "cell_type": "code",
   "execution_count": 25,
   "metadata": {},
   "outputs": [],
   "source": [
    "corpus_size_before = 0\n",
    "corpus_size_after = 0\n",
    "for m in range(len(corpus2)):\n",
    "    corpus_size = len(corpus[m])\n",
    "    corpus_size2 = len(corpus2[m])\n",
    "    corpus_size_before += corpus_size\n",
    "    corpus_size_after += corpus_size2"
   ]
  },
  {
   "cell_type": "code",
   "execution_count": 26,
   "metadata": {},
   "outputs": [
    {
     "name": "stdout",
     "output_type": "stream",
     "text": [
      "428249 343665\n"
     ]
    }
   ],
   "source": [
    "print corpus_size_before, corpus_size_after"
   ]
  },
  {
   "cell_type": "code",
   "execution_count": 27,
   "metadata": {},
   "outputs": [],
   "source": [
    "save_answers2(dict_size_before, dict_size_after, corpus_size_before, corpus_size_after)"
   ]
  },
  {
   "cell_type": "code",
   "execution_count": 28,
   "metadata": {},
   "outputs": [
    {
     "data": {
      "text/plain": [
       "[(12, 1),\n",
       " (144, 1),\n",
       " (204, 1),\n",
       " (206, 1),\n",
       " (215, 1),\n",
       " (236, 1),\n",
       " (301, 1),\n",
       " (302, 1),\n",
       " (303, 1),\n",
       " (304, 1)]"
      ]
     },
     "execution_count": 28,
     "metadata": {},
     "output_type": "execute_result"
    }
   ],
   "source": [
    "corpus[51]"
   ]
  },
  {
   "cell_type": "markdown",
   "metadata": {},
   "source": [
    "### Сравнение когерентностей\n",
    "__Задание 3.__ Постройте еще одну модель по корпусу corpus2 и словарю dictionary2, остальные параметры оставьте такими же, как при первом построении модели. Сохраните новую модель в другую переменную (не перезаписывайте предыдущую модель). Не забудьте про фиксирование seed!\n",
    "\n",
    "Затем воспользуйтесь методом *top_topics* модели, чтобы вычислить ее когерентность. Передайте в качестве аргумента соответствующий модели корпус. Метод вернет список кортежей (топ токенов, когерентность), отсортированных по убыванию последней. Вычислите среднюю по всем темам когерентность для каждой из двух моделей и передайте в функцию save_answers3. "
   ]
  },
  {
   "cell_type": "code",
   "execution_count": 29,
   "metadata": {},
   "outputs": [],
   "source": [
    "np.random.seed(76543)\n",
    "# здесь код для построения модели:\n",
    "ldamodel2 = models.ldamodel.LdaModel(corpus2, num_topics=40, passes=5, id2word = {k: w for (w, k) in dictionary2.token2id.items()})"
   ]
  },
  {
   "cell_type": "code",
   "execution_count": 30,
   "metadata": {},
   "outputs": [],
   "source": [
    "coherence2 = np.mean(np.array(ldamodel2.top_topics(corpus2)).T[1])"
   ]
  },
  {
   "cell_type": "code",
   "execution_count": 31,
   "metadata": {},
   "outputs": [],
   "source": [
    "coherence = np.mean(np.array(ldamodel.top_topics(corpus)).T[1])"
   ]
  },
  {
   "cell_type": "code",
   "execution_count": 32,
   "metadata": {},
   "outputs": [],
   "source": [
    "def save_answers3(coherence, coherence2):\n",
    "    with open(\"cooking_LDA_pa_task3.txt\", \"w\") as fout:\n",
    "        fout.write(\" \".join([\"%3f\"%el for el in [coherence, coherence2]]))"
   ]
  },
  {
   "cell_type": "code",
   "execution_count": 33,
   "metadata": {},
   "outputs": [],
   "source": [
    "save_answers3(coherence, coherence2)"
   ]
  },
  {
   "cell_type": "code",
   "execution_count": 37,
   "metadata": {},
   "outputs": [
    {
     "data": {
      "text/plain": [
       "'2.3.0'"
      ]
     },
     "execution_count": 37,
     "metadata": {},
     "output_type": "execute_result"
    }
   ],
   "source": [
    "import gensim\n",
    "gensim.__version__"
   ]
  },
  {
   "cell_type": "markdown",
   "metadata": {},
   "source": [
    "Считается, что когерентность хорошо соотносится с человеческими оценками интерпретируемости тем. Поэтому на больших текстовых коллекциях когерентность обычно повышается, если убрать фоновую лексику. Однако в нашем случае этого не произошло. "
   ]
  },
  {
   "cell_type": "markdown",
   "metadata": {},
   "source": [
    "### Изучение влияния гиперпараметра alpha"
   ]
  },
  {
   "cell_type": "markdown",
   "metadata": {},
   "source": [
    "В этом разделе мы будем работать со второй моделью, то есть той, которая построена по сокращенному корпусу. \n",
    "\n",
    "Пока что мы посмотрели только на матрицу темы-слова, теперь давайте посмотрим на матрицу темы-документы. Выведите темы для нулевого (или любого другого) документа из корпуса, воспользовавшись методом *get_document_topics* второй модели:"
   ]
  },
  {
   "cell_type": "code",
   "execution_count": 100,
   "metadata": {},
   "outputs": [
    {
     "data": {
      "text/plain": [
       "array([0.14664347, 0.05692983, 0.12633962, 0.20337333, 0.10125103,\n",
       "       0.09642857, 0.22974843])"
      ]
     },
     "execution_count": 100,
     "metadata": {},
     "output_type": "execute_result"
    }
   ],
   "source": [
    "np.transpose(ldamodel2.get_document_topics(corpus2[39772]))[1]"
   ]
  },
  {
   "cell_type": "markdown",
   "metadata": {},
   "source": [
    "Также выведите содержимое переменной *.alpha* второй модели:"
   ]
  },
  {
   "cell_type": "code",
   "execution_count": 40,
   "metadata": {},
   "outputs": [
    {
     "data": {
      "text/plain": [
       "array([0.025, 0.025, 0.025, 0.025, 0.025, 0.025, 0.025, 0.025, 0.025,\n",
       "       0.025, 0.025, 0.025, 0.025, 0.025, 0.025, 0.025, 0.025, 0.025,\n",
       "       0.025, 0.025, 0.025, 0.025, 0.025, 0.025, 0.025, 0.025, 0.025,\n",
       "       0.025, 0.025, 0.025, 0.025, 0.025, 0.025, 0.025, 0.025, 0.025,\n",
       "       0.025, 0.025, 0.025, 0.025])"
      ]
     },
     "execution_count": 40,
     "metadata": {},
     "output_type": "execute_result"
    }
   ],
   "source": [
    "ldamodel2.alpha"
   ]
  },
  {
   "cell_type": "markdown",
   "metadata": {},
   "source": [
    "У вас должно получиться, что документ характеризуется небольшим числом тем. Попробуем поменять гиперпараметр alpha, задающий априорное распределение Дирихле для распределений тем в документах."
   ]
  },
  {
   "cell_type": "markdown",
   "metadata": {},
   "source": [
    "__Задание 4.__ Обучите третью модель: используйте сокращенный корпус (corpus2 и dictionary2) и установите параметр __alpha=1__, passes=5. Не забудьте про фиксацию seed! Выведите темы новой модели для нулевого документа; должно получиться, что распределение над множеством тем практически равномерное. Чтобы убедиться в том, что во второй модели документы описываются гораздо более разреженными распределениями, чем в третьей, посчитайте суммарное количество элементов, __превосходящих 0.01__, в матрицах темы-документы обеих моделей. Другими словами, запросите темы  модели для каждого документа с параметром *minimum_probability=0.01* и просуммируйте число элементов в получаемых массивах. Передайте две суммы (сначала для модели с alpha по умолчанию, затем для модели в alpha=1) в функцию save_answers4."
   ]
  },
  {
   "cell_type": "code",
   "execution_count": 79,
   "metadata": {},
   "outputs": [],
   "source": [
    "np.random.seed(76543)\n",
    "# здесь код для построения модели:\n",
    "ldamodel3 = models.ldamodel.LdaModel(corpus2, num_topics=40, alpha=1, passes=5, id2word = {k: w for (w, k) in dictionary2.token2id.items()})"
   ]
  },
  {
   "cell_type": "code",
   "execution_count": 80,
   "metadata": {},
   "outputs": [],
   "source": [
    "count_model2 = 0\n",
    "count_model3 = 0\n",
    "for i in range(len(corpus2)):\n",
    "    count_model2 += len(ldamodel2.get_document_topics(corpus2[i], minimum_probability=0.01))\n",
    "    count_model3 += len(ldamodel3.get_document_topics(corpus2[i], minimum_probability=0.01))"
   ]
  },
  {
   "cell_type": "code",
   "execution_count": 83,
   "metadata": {},
   "outputs": [
    {
     "name": "stdout",
     "output_type": "stream",
     "text": [
      "198911 1590960\n"
     ]
    }
   ],
   "source": [
    "print count_model2, count_model3"
   ]
  },
  {
   "cell_type": "code",
   "execution_count": 84,
   "metadata": {},
   "outputs": [],
   "source": [
    "def save_answers4(count_model2, count_model3):\n",
    "    with open(\"cooking_LDA_pa_task4.txt\", \"w\") as fout:\n",
    "        fout.write(\" \".join([str(el) for el in [count_model2, count_model3]]))"
   ]
  },
  {
   "cell_type": "code",
   "execution_count": 85,
   "metadata": {},
   "outputs": [],
   "source": [
    "save_answers4(count_model2, count_model3)"
   ]
  },
  {
   "cell_type": "markdown",
   "metadata": {},
   "source": [
    "Таким образом, гиперпараметр __alpha__ влияет на разреженность распределений тем в документах. Аналогично гиперпараметр __eta__ влияет на разреженность распределений слов в темах."
   ]
  },
  {
   "cell_type": "markdown",
   "metadata": {},
   "source": [
    "### LDA как способ понижения размерности\n",
    "Иногда, распределения над темами, найденные с помощью LDA, добавляют в матрицу объекты-признаки как дополнительные, семантические, признаки, и это может улучшить качество решения задачи. Для простоты давайте просто обучим классификатор рецептов на кухни на признаках, полученных из LDA, и измерим точность (accuracy).\n",
    "\n",
    "__Задание 5.__ Используйте модель, построенную по сокращенной выборке с alpha по умолчанию (вторую модель). Составьте матрицу $\\Theta = p(t|d)$ вероятностей тем в документах; вы можете использовать тот же метод get_document_topics, а также вектор правильных ответов y (в том же порядке, в котором рецепты идут в переменной recipes). Создайте объект RandomForestClassifier со 100 деревьями, с помощью функции cross_val_score вычислите среднюю accuracy по трем фолдам (перемешивать данные не нужно) и передайте в функцию save_answers5."
   ]
  },
  {
   "cell_type": "code",
   "execution_count": 88,
   "metadata": {},
   "outputs": [],
   "source": [
    "from sklearn.ensemble import RandomForestClassifier\n",
    "from sklearn.model_selection import cross_val_score"
   ]
  },
  {
   "cell_type": "code",
   "execution_count": 96,
   "metadata": {},
   "outputs": [
    {
     "name": "stdout",
     "output_type": "stream",
     "text": [
      "           0\n",
      "1   0.146642\n",
      "2   0.056932\n",
      "4   0.126313\n",
      "12  0.203303\n",
      "25  0.101247\n",
      "28  0.096429\n",
      "38  0.229848\n"
     ]
    }
   ],
   "source": [
    "import pandas as pd"
   ]
  },
  {
   "cell_type": "code",
   "execution_count": 200,
   "metadata": {},
   "outputs": [
    {
     "data": {
      "text/plain": [
       "[(5, 0.057452110449769625),\n",
       " (11, 0.1553252906875579),\n",
       " (12, 0.268978471013317),\n",
       " (15, 0.08206998222527784),\n",
       " (24, 0.05900938987032289),\n",
       " (27, 0.1829454077809017),\n",
       " (33, 0.14838601463951986)]"
      ]
     },
     "execution_count": 200,
     "metadata": {},
     "output_type": "execute_result"
    }
   ],
   "source": [
    "ldamodel2.get_document_topics(corpus2[71])"
   ]
  },
  {
   "cell_type": "code",
   "execution_count": 208,
   "metadata": {},
   "outputs": [
    {
     "name": "stdout",
     "output_type": "stream",
     "text": [
      "40 [0, 0, 0, 0, 0, 0.05735395790381886, 0, 0, 0, 0, 0, 0.12892175685687238, 0.2588113869249295, 0, 0, 0.064805892999567, 0, 0, 0, 0, 0.2653327684441163, 0, 0, 0, 0, 0, 0, 0.17755201464847445, 0, 0, 0, 0, 0, 0, 0, 0, 0, 0, 0, 0]\n"
     ]
    }
   ],
   "source": [
    "tmp = ldamodel2.get_document_topics(corpus2[71])\n",
    "topic_list = map(int, np.transpose(tmp)[0])\n",
    "prob_list = list(np.transpose(tmp)[1])\n",
    "for i in range(40):\n",
    "    if i not in topic_list:\n",
    "        topic_list.append(i)\n",
    "        prob_list.append(0)\n",
    "tmp_list = [topic_list, prob_list]\n",
    "prob_vector = map(list, zip(*sorted(map(list, zip(*tmp_list)))))[1]\n",
    "print len(prob_vector), prob_vector"
   ]
  },
  {
   "cell_type": "code",
   "execution_count": 210,
   "metadata": {},
   "outputs": [],
   "source": [
    "prob_matrix = []\n",
    "for j in range(len(corpus2)):\n",
    "    tmp = ldamodel2.get_document_topics(corpus2[j])\n",
    "    topic_list = map(int, np.transpose(tmp)[0])\n",
    "    prob_list = list(np.transpose(tmp)[1])\n",
    "    for i in range(40):\n",
    "        if i not in topic_list:\n",
    "            topic_list.append(i)\n",
    "            prob_list.append(0)\n",
    "    tmp_list = [topic_list, prob_list]\n",
    "    prob_vector = map(list, zip(*sorted(map(list, zip(*tmp_list)))))[1]\n",
    "    prob_matrix.append(prob_vector)"
   ]
  },
  {
   "cell_type": "code",
   "execution_count": 213,
   "metadata": {},
   "outputs": [],
   "source": [
    "teta = np.zeros((len(corpus2), 40))\n",
    "for index, bow in enumerate(corpus2):\n",
    "    for topic, proba in ldamodel2.get_document_topics(bow):\n",
    "        teta[index, topic] = proba\n",
    "        \n",
    "y = [recipe['cuisine'] for recipe in recipes]"
   ]
  },
  {
   "cell_type": "code",
   "execution_count": 220,
   "metadata": {},
   "outputs": [
    {
     "name": "stderr",
     "output_type": "stream",
     "text": [
      "/home/varvara/anaconda3/envs/python2/lib/python2.7/site-packages/sklearn/model_selection/_split.py:2053: FutureWarning: You should specify a value for 'cv' instead of relying on the default value. The default value will change from 3 to 5 in version 0.22.\n",
      "  warnings.warn(CV_WARNING, FutureWarning)\n"
     ]
    }
   ],
   "source": [
    "model = RandomForestClassifier(n_estimators=100)\n",
    "accuracy = cross_val_score(model, prob_matrix, y)\n"
   ]
  },
  {
   "cell_type": "code",
   "execution_count": 221,
   "metadata": {},
   "outputs": [],
   "source": [
    "def save_answers5(accuracy):\n",
    "     with open(\"cooking_LDA_pa_task5.txt\", \"w\") as fout:\n",
    "        fout.write(str(accuracy))"
   ]
  },
  {
   "cell_type": "code",
   "execution_count": 225,
   "metadata": {},
   "outputs": [],
   "source": [
    "save_answers5(np.mean(accuracy))"
   ]
  },
  {
   "cell_type": "markdown",
   "metadata": {},
   "source": [
    "Для такого большого количества классов это неплохая точность. Вы можете попроовать обучать RandomForest на исходной матрице частот слов, имеющей значительно большую размерность, и увидеть, что accuracy увеличивается на 10–15%. Таким образом, LDA собрал не всю, но достаточно большую часть информации из выборки, в матрице низкого ранга."
   ]
  },
  {
   "cell_type": "markdown",
   "metadata": {},
   "source": [
    "### LDA — вероятностная модель\n",
    "Матричное разложение, использующееся в LDA, интерпретируется как следующий процесс генерации документов.\n",
    "\n",
    "Для документа $d$ длины $n_d$:\n",
    "1. Из априорного распределения Дирихле с параметром alpha сгенерировать распределение над множеством тем: $\\theta_d \\sim Dirichlet(\\alpha)$\n",
    "1. Для каждого слова $w = 1, \\dots, n_d$:\n",
    "    1. Сгенерировать тему из дискретного распределения $t \\sim \\theta_{d}$\n",
    "    1. Сгенерировать слово из дискретного распределения $w \\sim \\phi_{t}$.\n",
    "    \n",
    "Подробнее об этом в [Википедии](https://en.wikipedia.org/wiki/Latent_Dirichlet_allocation).\n",
    "\n",
    "В контексте нашей задачи получается, что, используя данный генеративный процесс, можно создавать новые рецепты. Вы можете передать в функцию модель и число ингредиентов и сгенерировать рецепт :)"
   ]
  },
  {
   "cell_type": "code",
   "execution_count": null,
   "metadata": {},
   "outputs": [],
   "source": [
    "def generate_recipe(model, num_ingredients):\n",
    "    theta = np.random.dirichlet(model.alpha)\n",
    "    for i in range(num_ingredients):\n",
    "        t = np.random.choice(np.arange(model.num_topics), p=theta)\n",
    "        topic = model.show_topic(t, topn=model.num_terms)\n",
    "        topic_distr = [x[1] for x in topic]\n",
    "        terms = [x[0] for x in topic]\n",
    "        w = np.random.choice(terms, p=topic_distr)\n",
    "        print w"
   ]
  },
  {
   "cell_type": "code",
   "execution_count": null,
   "metadata": {},
   "outputs": [],
   "source": []
  },
  {
   "cell_type": "markdown",
   "metadata": {},
   "source": [
    "### Интерпретация построенной модели\n",
    "Вы можете рассмотреть топы ингредиентов каждой темы. Большиснтво тем сами по себе похожи на рецепты; в некоторых собираются продукты одного вида, например, свежие фрукты или разные виды сыра.\n",
    "\n",
    "Попробуем эмпирически соотнести наши темы с национальными кухнями (cuisine). Построим матрицу $A$ размера темы $x$ кухни, ее элементы $a_{tc}$ — суммы $p(t|d)$ по всем документам $d$, которые отнесены к кухне $c$. Нормируем матрицу на частоты рецептов по разным кухням, чтобы избежать дисбаланса между кухнями. Следующая функция получает на вход объект модели, объект корпуса и исходные данные и возвращает нормированную матрицу $A$. Ее удобно визуализировать с помощью seaborn."
   ]
  },
  {
   "cell_type": "code",
   "execution_count": null,
   "metadata": {},
   "outputs": [],
   "source": [
    "import pandas\n",
    "import seaborn\n",
    "from matplotlib import pyplot as plt\n",
    "%matplotlib inline"
   ]
  },
  {
   "cell_type": "code",
   "execution_count": null,
   "metadata": {},
   "outputs": [],
   "source": [
    "def compute_topic_cuisine_matrix(model, corpus, recipes):\n",
    "    # составляем вектор целевых признаков\n",
    "    targets = list(set([recipe[\"cuisine\"] for recipe in recipes]))\n",
    "    # составляем матрицу\n",
    "    tc_matrix = pandas.DataFrame(data=np.zeros((model.num_topics, len(targets))), columns=targets)\n",
    "    for recipe, bow in zip(recipes, corpus):\n",
    "        recipe_topic = model.get_document_topics(bow)\n",
    "        for t, prob in recipe_topic:\n",
    "            tc_matrix[recipe[\"cuisine\"]][t] += prob\n",
    "    # нормируем матрицу\n",
    "    target_sums = pandas.DataFrame(data=np.zeros((1, len(targets))), columns=targets)\n",
    "    for recipe in recipes:\n",
    "        target_sums[recipe[\"cuisine\"]] += 1\n",
    "    return pandas.DataFrame(tc_matrix.values/target_sums.values, columns=tc_matrix.columns)"
   ]
  },
  {
   "cell_type": "code",
   "execution_count": null,
   "metadata": {},
   "outputs": [],
   "source": [
    "def plot_matrix(tc_matrix):\n",
    "    plt.figure(figsize=(10, 10))\n",
    "    seaborn.heatmap(tc_matrix, square=True)"
   ]
  },
  {
   "cell_type": "code",
   "execution_count": null,
   "metadata": {},
   "outputs": [],
   "source": [
    "# Визуализируйте матрицу\n"
   ]
  },
  {
   "cell_type": "markdown",
   "metadata": {},
   "source": [
    "Чем темнее квадрат в матрице, тем больше связь этой темы с данной кухней. Мы видим, что у нас есть темы, которые связаны с несколькими кухнями. Такие темы показывают набор ингредиентов, которые популярны в кухнях нескольких народов, то есть указывают на схожесть кухонь этих народов. Некоторые темы распределены по всем кухням равномерно, они показывают наборы продуктов, которые часто используются в кулинарии всех стран. "
   ]
  },
  {
   "cell_type": "markdown",
   "metadata": {},
   "source": [
    "Жаль, что в датасете нет названий рецептов, иначе темы было бы проще интерпретировать..."
   ]
  },
  {
   "cell_type": "markdown",
   "metadata": {},
   "source": [
    "### Заключение\n",
    "В этом задании вы построили несколько моделей LDA, посмотрели, на что влияют гиперпараметры модели и как можно использовать построенную модель. "
   ]
  }
 ],
 "metadata": {
  "kernelspec": {
   "display_name": "Python 2",
   "language": "python",
   "name": "python2"
  },
  "language_info": {
   "codemirror_mode": {
    "name": "ipython",
    "version": 2
   },
   "file_extension": ".py",
   "mimetype": "text/x-python",
   "name": "python",
   "nbconvert_exporter": "python",
   "pygments_lexer": "ipython2",
   "version": "2.7.16"
  }
 },
 "nbformat": 4,
 "nbformat_minor": 1
}
