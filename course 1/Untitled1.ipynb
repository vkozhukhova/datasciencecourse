{
 "cells": [
  {
   "cell_type": "code",
   "execution_count": 12,
   "metadata": {},
   "outputs": [],
   "source": [
    "def sum2(a, b):\n",
    "    if isinstance(a, (int, float)) & isinstance(b, (int, float)):\n",
    "        return a + b\n",
    "    elif (not isinstance(a, (int, float))) & (not isinstance(b, (int, float))):\n",
    "        return \"all arguments are not a numbers\" \n",
    "    elif isinstance(b, (int, float)):\n",
    "        return \"1st argument is not a number\"\n",
    "    else:\n",
    "        return \"2nd argument is not a number\"\n"
   ]
  },
  {
   "cell_type": "code",
   "execution_count": 16,
   "metadata": {},
   "outputs": [
    {
     "data": {
      "text/plain": [
       "16"
      ]
     },
     "execution_count": 16,
     "metadata": {},
     "output_type": "execute_result"
    }
   ],
   "source": [
    "sum2(8, 8)"
   ]
  },
  {
   "cell_type": "code",
   "execution_count": 39,
   "metadata": {},
   "outputs": [],
   "source": [
    "T = ('Aa', 'ab', 'AaAa', 'AaAaAa', 'ABBA')\n",
    "T = np.array(list(x.lower() for x in T))"
   ]
  },
  {
   "cell_type": "code",
   "execution_count": 41,
   "metadata": {},
   "outputs": [],
   "source": [
    "n = len(T)\n",
    "unique = [[] for i in range(n)]\n",
    "for i in range(n):\n",
    "    for char in T[i][::]:\n",
    "        if char not in unique[i]:\n",
    "            unique[i].append(char)\n",
    "a = list(map(len, unique))"
   ]
  },
  {
   "cell_type": "code",
   "execution_count": 42,
   "metadata": {},
   "outputs": [],
   "source": [
    "indxs = []\n",
    "for i, j in enumerate(a):\n",
    "    if j == max(a):\n",
    "        indxs.append(i)"
   ]
  },
  {
   "cell_type": "code",
   "execution_count": 29,
   "metadata": {},
   "outputs": [
    {
     "data": {
      "text/plain": [
       "[1, 4]"
      ]
     },
     "execution_count": 29,
     "metadata": {},
     "output_type": "execute_result"
    }
   ],
   "source": [
    "indxs"
   ]
  },
  {
   "cell_type": "code",
   "execution_count": 33,
   "metadata": {},
   "outputs": [],
   "source": [
    "import numpy as np\n",
    "T = (T)"
   ]
  },
  {
   "cell_type": "code",
   "execution_count": 43,
   "metadata": {},
   "outputs": [
    {
     "data": {
      "text/plain": [
       "4"
      ]
     },
     "execution_count": 43,
     "metadata": {},
     "output_type": "execute_result"
    }
   ],
   "source": [
    "max(list(map(len, T[indxs])))"
   ]
  },
  {
   "cell_type": "code",
   "execution_count": null,
   "metadata": {},
   "outputs": [],
   "source": [
    "def counter(T):\n",
    "    return max(max([(len(set(s.lower())), len(s)) for s in T]))"
   ]
  },
  {
   "cell_type": "markdown",
   "metadata": {},
   "source": [
    "Напишите такую функцию counter(T):\n",
    "\n",
    "- принимающую на вход кортеж, состоящий из строк латинского алфавита, например, (\"ABC\", \"abc\")\n",
    "- приводящую строки к единому (верхнему, либо нижнему) регистру\n",
    "- определяющую число уникальных символов латинского алфавита для каждой строки (строка \"Aaa\" содержит всего 1 уникальный символ)\n",
    "- возвращающую длину строки с максимальным числом уникальных символов (если таких строк несколько, то самой длинной из них)\n",
    "\n",
    "1) (..., ...) for x in T - для каждого элемента списка делаем tuple из двух членов\n",
    "\n",
    "2)  (len(set(x.upper())), len(x)) - каждый tuple: первый элемент - строка переводится в верхний регистр, затем превращается в set, при этом повторяющееся символы отбрасываются, так как в сете могут быть только уникальные элементы, len(set..) - количество уникальных букв. Второй элемент tuple - просто длина строки.\n",
    "\n",
    "3) max( список tuple) - при сравнении двух tuple, сравнивается сначала первый элемент, если они равны, то второй элемент. Это сравнение неявно используется при работе max. Поэтому не нужно отдельно писать функцию сравнения (key=lambda...)\n",
    "\n",
    "4) В данном случае нет нужды строить в памяти отдельный список [(.., ..) for x in T], так как это единственный аргумент функции, вместо списка будет создан генератор (как если бы вместо квадратных скобок выражение было заключено в круглые скобки)\n",
    "\n",
    "5) max(список tuple)[1] - возвращаем второй элемент нашего максимального tuple, у нас это длина строки."
   ]
  },
  {
   "cell_type": "code",
   "execution_count": 44,
   "metadata": {},
   "outputs": [],
   "source": [
    "def counter(T):\n",
    "    return max((len(set(x.upper())),len(x)) for x in T)[1]"
   ]
  },
  {
   "cell_type": "code",
   "execution_count": null,
   "metadata": {},
   "outputs": [],
   "source": []
  }
 ],
 "metadata": {
  "kernelspec": {
   "display_name": "Python 3",
   "language": "python",
   "name": "python3"
  },
  "language_info": {
   "codemirror_mode": {
    "name": "ipython",
    "version": 3
   },
   "file_extension": ".py",
   "mimetype": "text/x-python",
   "name": "python",
   "nbconvert_exporter": "python",
   "pygments_lexer": "ipython3",
   "version": "3.7.3"
  }
 },
 "nbformat": 4,
 "nbformat_minor": 2
}
