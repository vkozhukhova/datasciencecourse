{
 "cells": [
  {
   "cell_type": "markdown",
   "metadata": {},
   "source": [
    "# Доверительные интервалы для доли "
   ]
  },
  {
   "cell_type": "markdown",
   "metadata": {},
   "source": [
    "## Генерация данных"
   ]
  },
  {
   "cell_type": "code",
   "execution_count": 1,
   "metadata": {},
   "outputs": [],
   "source": [
    "import numpy as np"
   ]
  },
  {
   "cell_type": "code",
   "execution_count": 2,
   "metadata": {},
   "outputs": [],
   "source": [
    "np.random.seed(1)\n",
    "\n",
    "statistical_population = np.random.randint(2, size = 100000) \n",
    "\n",
    "random_sample = np.random.choice(statistical_population, size = 1000)"
   ]
  },
  {
   "cell_type": "code",
   "execution_count": 3,
   "metadata": {},
   "outputs": [
    {
     "data": {
      "text/plain": [
       "0.49771"
      ]
     },
     "execution_count": 3,
     "metadata": {},
     "output_type": "execute_result"
    }
   ],
   "source": [
    "#истинное значение доли\n",
    "statistical_population.mean()"
   ]
  },
  {
   "cell_type": "markdown",
   "metadata": {},
   "source": [
    "## Точечная оценка доли"
   ]
  },
  {
   "cell_type": "code",
   "execution_count": 4,
   "metadata": {},
   "outputs": [
    {
     "data": {
      "text/plain": [
       "0.502"
      ]
     },
     "execution_count": 4,
     "metadata": {},
     "output_type": "execute_result"
    }
   ],
   "source": [
    "random_sample.mean()"
   ]
  },
  {
   "cell_type": "markdown",
   "metadata": {},
   "source": [
    "## Доверительный интервал для доли"
   ]
  },
  {
   "cell_type": "code",
   "execution_count": 6,
   "metadata": {},
   "outputs": [],
   "source": [
    "from statsmodels.stats.proportion import proportion_confint"
   ]
  },
  {
   "cell_type": "markdown",
   "metadata": {},
   "source": [
    "### Доверительный интервал на основе нормального распределения"
   ]
  },
  {
   "cell_type": "markdown",
   "metadata": {},
   "source": [
    "$$\\hat{p}\\pm z_{1-\\frac{\\alpha}{2}} \\sqrt{\\frac{\\hat{p}\\left(1-\\hat{p}\\right)}{n}}$$"
   ]
  },
  {
   "cell_type": "code",
   "execution_count": 7,
   "metadata": {},
   "outputs": [],
   "source": [
    "normal_interval = proportion_confint(sum(random_sample), len(random_sample), method = 'normal')"
   ]
  },
  {
   "cell_type": "code",
   "execution_count": 8,
   "metadata": {},
   "outputs": [
    {
     "name": "stdout",
     "output_type": "stream",
     "text": [
      "normal_interval [0.471010, 0.532990] with width 0.061979\n"
     ]
    }
   ],
   "source": [
    "print ('normal_interval [%f, %f] with width %f' % (normal_interval[0],\n",
    "                                                  normal_interval[1], \n",
    "                                                  normal_interval[1] - normal_interval[0]))"
   ]
  },
  {
   "cell_type": "markdown",
   "metadata": {},
   "source": [
    "### Доверительный интервал Уилсона"
   ]
  },
  {
   "cell_type": "markdown",
   "metadata": {},
   "source": [
    "$$\\frac1{ 1 + \\frac{z^2}{n} } \\left( \\hat{p} + \\frac{z^2}{2n} \\pm z \\sqrt{ \\frac{ \\hat{p}\\left(1-\\hat{p}\\right)}{n} + \\frac{\n",
    "z^2}{4n^2} } \\right), \\;\\; z \\equiv z_{1-\\frac{\\alpha}{2}}$$ "
   ]
  },
  {
   "cell_type": "code",
   "execution_count": 9,
   "metadata": {},
   "outputs": [],
   "source": [
    "wilson_interval = proportion_confint(sum(random_sample), len(random_sample), method = 'wilson')"
   ]
  },
  {
   "cell_type": "code",
   "execution_count": 11,
   "metadata": {},
   "outputs": [
    {
     "name": "stdout",
     "output_type": "stream",
     "text": [
      "wilson_interval [0.471062, 0.532922] with width 0.061860\n"
     ]
    }
   ],
   "source": [
    "print ('wilson_interval [%f, %f] with width %f' % (wilson_interval[0],\n",
    "                                                  wilson_interval[1],\n",
    "                                                  wilson_interval[1] - wilson_interval[0]))"
   ]
  },
  {
   "cell_type": "markdown",
   "metadata": {},
   "source": [
    "## Размер выборки для интервала заданной ширины"
   ]
  },
  {
   "cell_type": "code",
   "execution_count": 10,
   "metadata": {
    "collapsed": true
   },
   "outputs": [],
   "source": [
    "from statsmodels.stats.proportion import samplesize_confint_proportion"
   ]
  },
  {
   "cell_type": "code",
   "execution_count": 11,
   "metadata": {},
   "outputs": [
    {
     "data": {
      "text/plain": [
       "9604"
      ]
     },
     "execution_count": 11,
     "metadata": {},
     "output_type": "execute_result"
    }
   ],
   "source": [
    "n_samples = int(np.ceil(samplesize_confint_proportion(random_sample.mean(), 0.01)))\n",
    "n_samples"
   ]
  },
  {
   "cell_type": "code",
   "execution_count": 12,
   "metadata": {},
   "outputs": [],
   "source": [
    "np.random.seed(1)\n",
    "random_sample = np.random.choice(statistical_population, size = n_samples)"
   ]
  },
  {
   "cell_type": "code",
   "execution_count": 13,
   "metadata": {
    "collapsed": true
   },
   "outputs": [],
   "source": [
    "normal_interval = proportion_confint(sum(random_sample), len(random_sample), method = 'normal')"
   ]
  },
  {
   "cell_type": "code",
   "execution_count": 14,
   "metadata": {},
   "outputs": [
    {
     "name": "stdout",
     "output_type": "stream",
     "text": [
      "normal_interval [0.481776, 0.501773] with width 0.019997\n"
     ]
    }
   ],
   "source": [
    "print 'normal_interval [%f, %f] with width %f' % (normal_interval[0],\n",
    "                                                  normal_interval[1],\n",
    "                                                  normal_interval[1] - normal_interval[0])"
   ]
  },
  {
   "cell_type": "code",
   "execution_count": 20,
   "metadata": {},
   "outputs": [
    {
     "data": {
      "text/plain": [
       "(0.003539259271646236, 0.10495443589637815)"
      ]
     },
     "execution_count": 20,
     "metadata": {},
     "output_type": "execute_result"
    }
   ],
   "source": [
    "proportion_confint(1, 50, method = 'wilson')"
   ]
  },
  {
   "cell_type": "code",
   "execution_count": 16,
   "metadata": {},
   "outputs": [],
   "source": [
    "import scipy\n",
    "z = scipy.stats.norm.ppf(0.975)"
   ]
  },
  {
   "cell_type": "code",
   "execution_count": 19,
   "metadata": {},
   "outputs": [
    {
     "data": {
      "text/plain": [
       "-0.018805307081790974"
      ]
     },
     "execution_count": 19,
     "metadata": {},
     "output_type": "execute_result"
    }
   ],
   "source": [
    "p = 1/50\n",
    "p - z * (p*(1-p)/50)**0.5"
   ]
  },
  {
   "cell_type": "code",
   "execution_count": 21,
   "metadata": {},
   "outputs": [
    {
     "data": {
      "text/plain": [
       "752.9259288560484"
      ]
     },
     "execution_count": 21,
     "metadata": {},
     "output_type": "execute_result"
    }
   ],
   "source": [
    "p*(1-p)/(0.01/z)**2"
   ]
  },
  {
   "cell_type": "code",
   "execution_count": 24,
   "metadata": {},
   "outputs": [],
   "source": [
    "p = np.arange(0, 1, 0.01)"
   ]
  },
  {
   "cell_type": "code",
   "execution_count": 26,
   "metadata": {},
   "outputs": [],
   "source": [
    "n = p*(1-p)/(0.01/z)**2"
   ]
  },
  {
   "cell_type": "code",
   "execution_count": 27,
   "metadata": {},
   "outputs": [
    {
     "data": {
      "text/plain": [
       "array([   0.        ,  380.30442325,  752.92592886, 1117.86451682,\n",
       "       1475.12018715, 1824.69293983, 2166.58277487, 2500.78969227,\n",
       "       2827.31369203, 3146.15477415, 3457.31293862, 3760.78818546,\n",
       "       4056.58051465, 4344.68992621, 4625.11642012, 4897.85999639,\n",
       "       5162.92065501, 5420.298396  , 5669.99321934, 5912.00512505,\n",
       "       6146.33411311, 6372.98018353, 6591.94333631, 6803.22357145,\n",
       "       7006.82088895, 7202.7352888 , 7390.96677102, 7571.51533559,\n",
       "       7744.38098252, 7909.56371181, 8067.06352346, 8216.88041746,\n",
       "       8359.01439383, 8493.46545255, 8620.23359364, 8739.31881708,\n",
       "       8850.72112288, 8954.44051104, 9050.47698156, 9138.83053443,\n",
       "       9219.50116967, 9292.48888726, 9357.79368721, 9415.41556952,\n",
       "       9465.35453419, 9507.61058122, 9542.1837106 , 9569.07392235,\n",
       "       9588.28121645, 9599.80559291, 9603.64705174, 9599.80559291,\n",
       "       9588.28121645, 9569.07392235, 9542.1837106 , 9507.61058122,\n",
       "       9465.35453419, 9415.41556952, 9357.79368721, 9292.48888726,\n",
       "       9219.50116967, 9138.83053443, 9050.47698156, 8954.44051104,\n",
       "       8850.72112288, 8739.31881708, 8620.23359364, 8493.46545255,\n",
       "       8359.01439383, 8216.88041746, 8067.06352346, 7909.56371181,\n",
       "       7744.38098252, 7571.51533559, 7390.96677102, 7202.7352888 ,\n",
       "       7006.82088895, 6803.22357145, 6591.94333631, 6372.98018353,\n",
       "       6146.33411311, 5912.00512505, 5669.99321934, 5420.298396  ,\n",
       "       5162.92065501, 4897.85999639, 4625.11642012, 4344.68992621,\n",
       "       4056.58051465, 3760.78818546, 3457.31293862, 3146.15477415,\n",
       "       2827.31369203, 2500.78969227, 2166.58277487, 1824.69293983,\n",
       "       1475.12018715, 1117.86451682,  752.92592886,  380.30442325])"
      ]
     },
     "execution_count": 27,
     "metadata": {},
     "output_type": "execute_result"
    }
   ],
   "source": [
    "n"
   ]
  },
  {
   "cell_type": "code",
   "execution_count": 28,
   "metadata": {},
   "outputs": [
    {
     "name": "stdout",
     "output_type": "stream",
     "text": [
      "Populating the interactive namespace from numpy and matplotlib\n"
     ]
    },
    {
     "name": "stderr",
     "output_type": "stream",
     "text": [
      "/home/varvara/anaconda3/lib/python3.7/site-packages/IPython/core/magics/pylab.py:160: UserWarning: pylab import has clobbered these variables: ['random_sample']\n",
      "`%matplotlib` prevents importing * from pylab and numpy\n",
      "  \"\\n`%matplotlib` prevents importing * from pylab and numpy\"\n"
     ]
    }
   ],
   "source": [
    "%pylab inline"
   ]
  },
  {
   "cell_type": "code",
   "execution_count": 30,
   "metadata": {},
   "outputs": [
    {
     "data": {
      "text/plain": [
       "[<matplotlib.lines.Line2D at 0x7f5b9bc69dd8>]"
      ]
     },
     "execution_count": 30,
     "metadata": {},
     "output_type": "execute_result"
    },
    {
     "data": {
      "image/png": "[encoded data removed]",
      "text/plain": [
       "<Figure size 432x288 with 1 Axes>"
      ]
     },
     "metadata": {
      "needs_background": "light"
     },
     "output_type": "display_data"
    }
   ],
   "source": [
    "plt.plot(p, n)"
   ]
  },
  {
   "cell_type": "code",
   "execution_count": 31,
   "metadata": {},
   "outputs": [
    {
     "data": {
      "text/plain": [
       "9603.647051735312"
      ]
     },
     "execution_count": 31,
     "metadata": {},
     "output_type": "execute_result"
    }
   ],
   "source": [
    "0.5*(1-0.5)/(0.01/z)**2"
   ]
  },
  {
   "cell_type": "code",
   "execution_count": 32,
   "metadata": {},
   "outputs": [
    {
     "data": {
      "text/plain": [
       "753"
      ]
     },
     "execution_count": 32,
     "metadata": {},
     "output_type": "execute_result"
    }
   ],
   "source": [
    "from statsmodels.stats.proportion import samplesize_confint_proportion\n",
    "from math import ceil\n",
    "ceil(samplesize_confint_proportion(1.0/50, 0.01, method='normal'))\n"
   ]
  },
  {
   "cell_type": "code",
   "execution_count": 33,
   "metadata": {},
   "outputs": [
    {
     "data": {
      "text/plain": [
       "9604"
      ]
     },
     "execution_count": 33,
     "metadata": {},
     "output_type": "execute_result"
    }
   ],
   "source": [
    "from statsmodels.stats.proportion import samplesize_confint_proportion\n",
    "from math import ceil\n",
    "ceil(samplesize_confint_proportion(0.5, 0.01, method='normal'))\n"
   ]
  },
  {
   "cell_type": "code",
   "execution_count": null,
   "metadata": {},
   "outputs": [],
   "source": []
  }
 ],
 "metadata": {
  "kernelspec": {
   "display_name": "Python 3",
   "language": "python",
   "name": "python3"
  },
  "language_info": {
   "codemirror_mode": {
    "name": "ipython",
    "version": 3
   },
   "file_extension": ".py",
   "mimetype": "text/x-python",
   "name": "python",
   "nbconvert_exporter": "python",
   "pygments_lexer": "ipython3",
   "version": "3.7.3"
  }
 },
 "nbformat": 4,
 "nbformat_minor": 1
}
